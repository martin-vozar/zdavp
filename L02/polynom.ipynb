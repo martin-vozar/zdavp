{
 "cells": [
  {
   "cell_type": "code",
   "execution_count": 1,
   "metadata": {},
   "outputs": [],
   "source": [
    "import numpy as np\n",
    "import pandas as pd\n",
    "import matplotlib.pyplot as plt\n",
    "from scipy.optimize import curve_fit"
   ]
  },
  {
   "cell_type": "code",
   "execution_count": 2,
   "metadata": {},
   "outputs": [],
   "source": [
    "iris = pd.read_csv('iris.csv')"
   ]
  },
  {
   "cell_type": "code",
   "execution_count": 17,
   "metadata": {},
   "outputs": [],
   "source": [
    "def poly(x, a1, a2, a3):\n",
    "    return(a1*x + a2*x**2 + a3*x**3)"
   ]
  },
  {
   "cell_type": "code",
   "execution_count": 4,
   "metadata": {},
   "outputs": [],
   "source": [
    "Set = iris[ iris['variety'] == \"Setosa\" ]\n",
    "Vir = iris[ iris['variety'] == \"Virginica\"] \n",
    "Ver = iris[ iris['variety'] == \"Versicolor\"]"
   ]
  },
  {
   "cell_type": "code",
   "execution_count": 5,
   "metadata": {},
   "outputs": [],
   "source": [
    "xSet = np.linspace(np.min(Set['petal.length']), np.max(Set['petal.length']), 100)\n",
    "xVir = np.linspace(np.min(Vir['petal.length']), np.max(Vir['petal.length']), 100)\n",
    "xVer = np.linspace(np.min(Ver['petal.length']), np.max(Ver['petal.length']), 100)"
   ]
  },
  {
   "cell_type": "code",
   "execution_count": 20,
   "metadata": {},
   "outputs": [],
   "source": [
    "pSet, cSet = curve_fit(poly, Set['petal.length'], Set['petal.width'])\n",
    "pVir, cVir = curve_fit(poly, Vir['petal.length'], Vir['petal.width'])\n",
    "pVer, cVer = curve_fit(poly, Ver['petal.length'], Ver['petal.width'])"
   ]
  },
  {
   "cell_type": "code",
   "execution_count": 9,
   "metadata": {},
   "outputs": [
    {
     "name": "stdout",
     "output_type": "stream",
     "text": [
      "[ 2.00771296 -3.82507882  2.59204592 -0.57279587]\n",
      "[-5.21015688  2.92688424 -0.50234372  0.02815805]\n",
      "[ 2.48452746 -1.55498744  0.36498733 -0.02814228]\n"
     ]
    }
   ],
   "source": [
    "print(pSet)\n",
    "print(pVir)\n",
    "print(pVer)"
   ]
  },
  {
   "cell_type": "code",
   "execution_count": 23,
   "metadata": {},
   "outputs": [
    {
     "data": {
      "text/plain": [
       "<matplotlib.collections.PathCollection at 0x1f36cf3b280>"
      ]
     },
     "execution_count": 23,
     "metadata": {},
     "output_type": "execute_result"
    },
    {
     "data": {
      "image/png": "[encoded data removed]",
      "text/plain": [
       "<Figure size 640x480 with 1 Axes>"
      ]
     },
     "metadata": {},
     "output_type": "display_data"
    }
   ],
   "source": [
    "x = np.linspace(0, 8, 1000)\n",
    "\n",
    "plt.scatter(Set['petal.length'], Set['petal.width'], c='m')\n",
    "plt.scatter(Vir['petal.length'], Vir['petal.width'], c='g')\n",
    "plt.scatter(Ver['petal.length'], Ver['petal.width'], c='k')\n",
    "\n",
    "plt.scatter(x[:200], poly(x[:200], pSet[0], pSet[1], pSet[2]), s=1, c='m')\n",
    "plt.scatter(x, poly(x, pVir[0], pVir[1], pVir[2]), s=1, c='g')\n",
    "plt.scatter(x, poly(x, pVer[0], pVer[1], pVer[2]), s=1, c='k')"
   ]
  },
  {
   "cell_type": "code",
   "execution_count": null,
   "metadata": {},
   "outputs": [],
   "source": []
  }
 ],
 "metadata": {
  "kernelspec": {
   "display_name": "Python 3",
   "language": "python",
   "name": "python3"
  },
  "language_info": {
   "codemirror_mode": {
    "name": "ipython",
    "version": 3
   },
   "file_extension": ".py",
   "mimetype": "text/x-python",
   "name": "python",
   "nbconvert_exporter": "python",
   "pygments_lexer": "ipython3",
   "version": "3.10.6"
  },
  "orig_nbformat": 4
 },
 "nbformat": 4,
 "nbformat_minor": 2
}
