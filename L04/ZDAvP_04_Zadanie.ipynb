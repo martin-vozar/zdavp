{
 "cells": [
  {
   "cell_type": "markdown",
   "metadata": {},
   "source": [
    "Pracujte s datasetom v súbore \"Data2.csv\". \n",
    "Ak som správne porozumel, tak stĺpec \"Data\" označuje odber elektrickej energie. Ak tomu aj tak náhodou nie je, tak pre zjednodušenie komunikácie tým označujme priemerný odber energie v tej hodine.\n",
    "\n",
    "Požadovaný výstup je:\n",
    "\n",
    "1. Pre každý mesiac vypočítať priemerný odber v jednotlivých hodinách.\n",
    "Každý mesiac teda bude popásaný \"priemerným dňom\".\n",
    "Tento výstup zobrazte na grafe tak, aby obsahoval 12 takýchto dní.\n",
    "\n",
    "2. Nájdite extrémne hodnoty: viac ako 50% nad/pod mesačný priemer v tej hodine.\n",
    "Body doplňte do grafu z úlohy 1. odlišnou farbou tak, aby boli v príslušnej hodine.\n",
    "\n",
    "3. Pokúste sa identifikovať, kedy bol pozorovaný subjekt na letnej dovolenke.\n",
    "\n",
    "Využiť môžete čokoľvek obsiahnuté v predchádzajúcich stretnutiach a materiáloch, vlastné vedomosti, výsledky google searchu.\n",
    "\n",
    "Cieľom je dostať pekné, prehľadné grafy, ktoré v zjednodušenej forme popíšu pozorovaný subjekt."
   ]
  }
 ],
 "metadata": {
  "language_info": {
   "name": "python"
  }
 },
 "nbformat": 4,
 "nbformat_minor": 2
}
