{
 "cells": [
  {
   "cell_type": "code",
   "execution_count": 1,
   "metadata": {},
   "outputs": [],
   "source": [
    "import numpy as np\n",
    "import pandas as pd"
   ]
  },
  {
   "cell_type": "code",
   "execution_count": 3,
   "metadata": {},
   "outputs": [],
   "source": [
    "R_2 = 99.7   # [Ohm] s=0.1 Ohm\n",
    "#R_L = 54.8   # [Ohm] s=0.1 Ohm\n",
    "R_L = 85.\n",
    "L =   47e-3   # [H] s=0.1e-3 H\n",
    "C =   1.652e-9 # [F] s=0.001e-9 F\n",
    "R_v = 50 # [Ohm]"
   ]
  },
  {
   "cell_type": "code",
   "execution_count": 4,
   "metadata": {},
   "outputs": [],
   "source": [
    "t = []\n",
    "U_zdroj = []\n",
    "U_R2 = []\n",
    "I_R2 = []\n",
    "with open('R1.dat') as file:\n",
    "    for i,line in enumerate(file):\n",
    "        values = [float(s) for s in line.split()]\n",
    "        t.append(i*1e-3/5000)\n",
    "        #priradenie hodnot poliam premennej\n",
    "        U_zdroj.append(values[0]*1e-3)\n",
    "        U_R2.append(values[1]*1e-3)\n",
    "        I_R2.append(-values[1]*1e-3/R_2)"
   ]
  },
  {
   "cell_type": "code",
   "execution_count": 5,
   "metadata": {},
   "outputs": [],
   "source": [
    "df = pd.DataFrame()"
   ]
  },
  {
   "cell_type": "code",
   "execution_count": 6,
   "metadata": {},
   "outputs": [],
   "source": [
    "df['t'] = t\n",
    "df['Uz'] = U_zdroj\n",
    "df['U'] = U_R2\n",
    "df['I'] = I_R2"
   ]
  },
  {
   "cell_type": "code",
   "execution_count": 7,
   "metadata": {},
   "outputs": [],
   "source": [
    "df.to_csv(\"RLC.csv\")"
   ]
  },
  {
   "cell_type": "code",
   "execution_count": null,
   "metadata": {},
   "outputs": [],
   "source": []
  }
 ],
 "metadata": {
  "kernelspec": {
   "display_name": "Python 3",
   "language": "python",
   "name": "python3"
  },
  "language_info": {
   "codemirror_mode": {
    "name": "ipython",
    "version": 3
   },
   "file_extension": ".py",
   "mimetype": "text/x-python",
   "name": "python",
   "nbconvert_exporter": "python",
   "pygments_lexer": "ipython3",
   "version": "3.10.6"
  },
  "orig_nbformat": 4
 },
 "nbformat": 4,
 "nbformat_minor": 2
}
